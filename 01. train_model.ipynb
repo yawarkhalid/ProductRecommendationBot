{
 "cells": [
  {
   "cell_type": "markdown",
   "id": "d9675edb",
   "metadata": {},
   "source": [
    "**Develop a Chatbot for the E-commerce domain using the apparel dataset provided separately. It is expected that you are able to entertain multiple types of scenarios:~**\n",
    "\n",
    " - 1) A user starts a conversation by asking a few things in the beginning, like:\n",
    "        User: Do you sell boys tops? (or similar question)\n",
    "        Bot: Bot would say “yes” or “no”, depending upon the availability of the item? Also ask relevant attribute(s) to simplify the search and/or to engage the user (like which color or type you are looking for?)\n",
    "        User: ......\n",
    "        Bot: .......\n",
    "\n",
    "- 2) The user directly provides a long sentence, such as:\n",
    "        User: I need a t-shirt for my son in green or blue color\n",
    "        Bot: respond with search results or ask about other attributes to simplify the search User: ........\n",
    "        Bot: .......\n",
    "\n",
    "- 3) The user may be very crude in his/her input and may only say “blue t-shirt for boys”. It is similar to category 2) above but has lesser greetings or formality from the user side. The bot may continue in its typical fashion, as was the case in 2).\n",
    "\n",
    "\n",
    "The user may add more information in the subsequent responses as the discussion continues. Ensure that you maintain a memory to store the data received/extracted so far.\n",
    "\n",
    "\n",
    "As discussed in the class, the final solution may use a hybrid approach that compromises both pattern-based and word2vec based search, which is perfectly fine.\n",
    "\n",
    "\n",
    "_Deliverables: In addition to submitting a working code (preferably using Streamlit interface), briefly describe the approach you took._"
   ]
  },
  {
   "cell_type": "markdown",
   "id": "10818b90",
   "metadata": {},
   "source": [
    "### We train our tfidf, svd, lsa embedding and doc2vec models in this notebook and save them in our repository."
   ]
  },
  {
   "cell_type": "code",
   "execution_count": 1,
   "id": "19e96096",
   "metadata": {},
   "outputs": [],
   "source": [
    "import pandas as pd\n",
    "import pickle\n",
    "from nltk.corpus import stopwords\n",
    "from nltk.stem import SnowballStemmer\n",
    "from nltk.tokenize import RegexpTokenizer\n",
    "from sklearn.feature_extraction.text import TfidfVectorizer\n",
    "from sklearn.metrics.pairwise import cosine_similarity\n",
    "from scipy import sparse\n",
    "import re\n",
    "import gensim\n",
    "from skimage import io\n",
    "import matplotlib.pyplot as plt\n",
    "from gensim.test.utils import get_tmpfile"
   ]
  },
  {
   "cell_type": "markdown",
   "id": "7fcef2be",
   "metadata": {},
   "source": [
    "# Load Data"
   ]
  },
  {
   "cell_type": "code",
   "execution_count": 2,
   "id": "185fee67",
   "metadata": {
    "scrolled": true
   },
   "outputs": [
    {
     "name": "stdout",
     "output_type": "stream",
     "text": [
      "(1272, 8)\n"
     ]
    },
    {
     "name": "stderr",
     "output_type": "stream",
     "text": [
      "/Users/yawarkhalid/miniforge3/envs/newenv/lib/python3.8/site-packages/openpyxl/styles/stylesheet.py:226: UserWarning: Workbook contains no default style, apply openpyxl's default\n",
      "  warn(\"Workbook contains no default style, apply openpyxl's default\")\n"
     ]
    },
    {
     "data": {
      "text/html": [
       "<div>\n",
       "<style scoped>\n",
       "    .dataframe tbody tr th:only-of-type {\n",
       "        vertical-align: middle;\n",
       "    }\n",
       "\n",
       "    .dataframe tbody tr th {\n",
       "        vertical-align: top;\n",
       "    }\n",
       "\n",
       "    .dataframe thead th {\n",
       "        text-align: right;\n",
       "    }\n",
       "</style>\n",
       "<table border=\"1\" class=\"dataframe\">\n",
       "  <thead>\n",
       "    <tr style=\"text-align: right;\">\n",
       "      <th></th>\n",
       "      <th>SN</th>\n",
       "      <th>Gender</th>\n",
       "      <th>Category</th>\n",
       "      <th>SubCategory</th>\n",
       "      <th>ProductType</th>\n",
       "      <th>Colour</th>\n",
       "      <th>Usage</th>\n",
       "      <th>ProductTitle</th>\n",
       "    </tr>\n",
       "  </thead>\n",
       "  <tbody>\n",
       "    <tr>\n",
       "      <th>0</th>\n",
       "      <td>1.0</td>\n",
       "      <td>Girls</td>\n",
       "      <td>Apparel</td>\n",
       "      <td>Topwear</td>\n",
       "      <td>Tops</td>\n",
       "      <td>White</td>\n",
       "      <td>Casual</td>\n",
       "      <td>Gini and Jony Girls Knit White Top</td>\n",
       "    </tr>\n",
       "    <tr>\n",
       "      <th>1</th>\n",
       "      <td>2.0</td>\n",
       "      <td>Girls</td>\n",
       "      <td>Apparel</td>\n",
       "      <td>Topwear</td>\n",
       "      <td>Tops</td>\n",
       "      <td>Black</td>\n",
       "      <td>Casual</td>\n",
       "      <td>Gini and Jony Girls Black Top</td>\n",
       "    </tr>\n",
       "    <tr>\n",
       "      <th>2</th>\n",
       "      <td>3.0</td>\n",
       "      <td>Girls</td>\n",
       "      <td>Apparel</td>\n",
       "      <td>Topwear</td>\n",
       "      <td>Tops</td>\n",
       "      <td>Blue</td>\n",
       "      <td>Casual</td>\n",
       "      <td>Gini and Jony Girls Pretty Blossom Blue Top</td>\n",
       "    </tr>\n",
       "    <tr>\n",
       "      <th>3</th>\n",
       "      <td>4.0</td>\n",
       "      <td>Girls</td>\n",
       "      <td>Apparel</td>\n",
       "      <td>Topwear</td>\n",
       "      <td>Tops</td>\n",
       "      <td>Pink</td>\n",
       "      <td>Casual</td>\n",
       "      <td>Doodle Kids Girls Pink I love Shopping Top</td>\n",
       "    </tr>\n",
       "    <tr>\n",
       "      <th>4</th>\n",
       "      <td>5.0</td>\n",
       "      <td>Girls</td>\n",
       "      <td>Apparel</td>\n",
       "      <td>Bottomwear</td>\n",
       "      <td>Capris</td>\n",
       "      <td>Black</td>\n",
       "      <td>Casual</td>\n",
       "      <td>Gini and Jony Girls Black Capris</td>\n",
       "    </tr>\n",
       "  </tbody>\n",
       "</table>\n",
       "</div>"
      ],
      "text/plain": [
       "    SN Gender Category SubCategory ProductType Colour   Usage  \\\n",
       "0  1.0  Girls  Apparel     Topwear        Tops  White  Casual   \n",
       "1  2.0  Girls  Apparel     Topwear        Tops  Black  Casual   \n",
       "2  3.0  Girls  Apparel     Topwear        Tops   Blue  Casual   \n",
       "3  4.0  Girls  Apparel     Topwear        Tops   Pink  Casual   \n",
       "4  5.0  Girls  Apparel  Bottomwear      Capris  Black  Casual   \n",
       "\n",
       "                                  ProductTitle  \n",
       "0           Gini and Jony Girls Knit White Top  \n",
       "1                Gini and Jony Girls Black Top  \n",
       "2  Gini and Jony Girls Pretty Blossom Blue Top  \n",
       "3   Doodle Kids Girls Pink I love Shopping Top  \n",
       "4             Gini and Jony Girls Black Capris  "
      ]
     },
     "execution_count": 2,
     "metadata": {},
     "output_type": "execute_result"
    }
   ],
   "source": [
    "# Load description features\n",
    "df = pd.read_excel(\"data/fashion_final.xlsx\")\n",
    "print (df.shape)\n",
    "df.head(5)"
   ]
  },
  {
   "cell_type": "code",
   "execution_count": 3,
   "id": "1278be80",
   "metadata": {},
   "outputs": [],
   "source": [
    "def inspect_product(product_id):\n",
    "    \n",
    "    single_product = df.query('SN==@product_id')\n",
    "    print (single_product.ProductTitle)\n",
    "\n",
    "    print (\"Gender:\")\n",
    "    print (single_product.Gender)\n",
    "    print (\"Category:\")\n",
    "    print (single_product.Category)\n",
    "    print (\"SubCategory:\")\n",
    "    print (single_product.SubCategory)\n",
    "    print (\"Colour:\")\n",
    "    print (single_product.Colour)\n",
    "    print (\"Usage:\")\n",
    "    print (single_product.Usage)"
   ]
  },
  {
   "cell_type": "code",
   "execution_count": 4,
   "id": "83fa20c7",
   "metadata": {
    "scrolled": false
   },
   "outputs": [
    {
     "name": "stdout",
     "output_type": "stream",
     "text": [
      "7    Gini and Jony Girls Red Top\n",
      "Name: ProductTitle, dtype: object\n",
      "Gender:\n",
      "7    Girls\n",
      "Name: Gender, dtype: object\n",
      "Category:\n",
      "7    Apparel\n",
      "Name: Category, dtype: object\n",
      "SubCategory:\n",
      "7    Topwear\n",
      "Name: SubCategory, dtype: object\n",
      "Colour:\n",
      "7    Red\n",
      "Name: Colour, dtype: object\n",
      "Usage:\n",
      "7    Casual\n",
      "Name: Usage, dtype: object\n"
     ]
    }
   ],
   "source": [
    "inspect_product(product_id=8)"
   ]
  },
  {
   "cell_type": "markdown",
   "id": "0f4f5f9e",
   "metadata": {},
   "source": [
    "## Clean text"
   ]
  },
  {
   "cell_type": "code",
   "execution_count": 5,
   "id": "b8053af3",
   "metadata": {},
   "outputs": [],
   "source": [
    "def stem_words(text):\n",
    "    text = text.split()\n",
    "    stemmer = SnowballStemmer('english')\n",
    "    stemmed_words = [stemmer.stem(word) for word in text]\n",
    "    text = \" \".join(stemmed_words)\n",
    "    return text\n",
    "\n",
    "def make_lower_case(text):\n",
    "    return text.lower()\n",
    "\n",
    "def remove_stop_words(text):\n",
    "    text = text.split()\n",
    "    stops = set(stopwords.words(\"english\"))\n",
    "    text = [w for w in text if not w in stops]\n",
    "    text = \" \".join(text)\n",
    "    return text\n",
    "\n",
    "def remove_punctuation(text):\n",
    "    tokenizer = RegexpTokenizer(r'\\w+')\n",
    "    text = tokenizer.tokenize(text)\n",
    "    text = \" \".join(text)\n",
    "    return text"
   ]
  },
  {
   "cell_type": "code",
   "execution_count": 6,
   "id": "bb98ee77",
   "metadata": {},
   "outputs": [],
   "source": [
    "df['ProductTitle'] = df.ProductTitle.apply(func=make_lower_case)\n",
    "df['ProductTitle'] = df.ProductTitle.apply(func=remove_stop_words)\n",
    "df['ProductTitle'] = df.ProductTitle.apply(func=remove_punctuation)\n",
    "df['ProductTitle'] = df.ProductTitle.apply(func=stem_words)"
   ]
  },
  {
   "cell_type": "code",
   "execution_count": 7,
   "id": "c8fe0b44",
   "metadata": {},
   "outputs": [
    {
     "data": {
      "text/html": [
       "<div>\n",
       "<style scoped>\n",
       "    .dataframe tbody tr th:only-of-type {\n",
       "        vertical-align: middle;\n",
       "    }\n",
       "\n",
       "    .dataframe tbody tr th {\n",
       "        vertical-align: top;\n",
       "    }\n",
       "\n",
       "    .dataframe thead th {\n",
       "        text-align: right;\n",
       "    }\n",
       "</style>\n",
       "<table border=\"1\" class=\"dataframe\">\n",
       "  <thead>\n",
       "    <tr style=\"text-align: right;\">\n",
       "      <th></th>\n",
       "      <th>SN</th>\n",
       "      <th>Gender</th>\n",
       "      <th>Category</th>\n",
       "      <th>SubCategory</th>\n",
       "      <th>ProductType</th>\n",
       "      <th>Colour</th>\n",
       "      <th>Usage</th>\n",
       "      <th>ProductTitle</th>\n",
       "    </tr>\n",
       "  </thead>\n",
       "  <tbody>\n",
       "    <tr>\n",
       "      <th>0</th>\n",
       "      <td>1.0</td>\n",
       "      <td>Girls</td>\n",
       "      <td>Apparel</td>\n",
       "      <td>Topwear</td>\n",
       "      <td>Tops</td>\n",
       "      <td>White</td>\n",
       "      <td>Casual</td>\n",
       "      <td>gini joni girl knit white top</td>\n",
       "    </tr>\n",
       "  </tbody>\n",
       "</table>\n",
       "</div>"
      ],
      "text/plain": [
       "    SN Gender Category SubCategory ProductType Colour   Usage  \\\n",
       "0  1.0  Girls  Apparel     Topwear        Tops  White  Casual   \n",
       "\n",
       "                    ProductTitle  \n",
       "0  gini joni girl knit white top  "
      ]
     },
     "execution_count": 7,
     "metadata": {},
     "output_type": "execute_result"
    }
   ],
   "source": [
    "df.head(1)"
   ]
  },
  {
   "cell_type": "markdown",
   "id": "729ca032",
   "metadata": {},
   "source": [
    "# TF-IDF Model"
   ]
  },
  {
   "cell_type": "code",
   "execution_count": 8,
   "id": "59b537f9",
   "metadata": {},
   "outputs": [],
   "source": [
    "df['full_document'] = df['ProductTitle'] + ' ' + df['Gender'] + ' ' + df['Category']+ ' ' + df['SubCategory'] + ' ' + df['ProductType']+ ' ' + df['Colour'] + ' ' + df['Usage']"
   ]
  },
  {
   "cell_type": "code",
   "execution_count": 9,
   "id": "fbd9f07b",
   "metadata": {},
   "outputs": [
    {
     "name": "stdout",
     "output_type": "stream",
     "text": [
      "(1272, 292)\n"
     ]
    }
   ],
   "source": [
    "#Fit TFIDF \n",
    "#Learn vocabulary and tfidf from all ids.\n",
    "tf = TfidfVectorizer(analyzer='word', \n",
    "                     min_df=10,\n",
    "                     ngram_range=(1, 2),\n",
    "                     #max_features=1000,\n",
    "                     stop_words='english')\n",
    "tf.fit(df['full_document'])\n",
    "\n",
    "#Transform id products to document-term matrix.\n",
    "tfidf_matrix = tf.transform(df['full_document'])\n",
    "pickle.dump(tf, open(\"models/tfidf_model.pkl\", \"wb\"))\n",
    "\n",
    "print (tfidf_matrix.shape)"
   ]
  },
  {
   "cell_type": "code",
   "execution_count": 10,
   "id": "b96278e5",
   "metadata": {},
   "outputs": [
    {
     "name": "stdout",
     "output_type": "stream",
     "text": [
      "(1272, 25)\n"
     ]
    }
   ],
   "source": [
    "# Compress with SVD\n",
    "from sklearn.decomposition import TruncatedSVD\n",
    "\n",
    "svd = TruncatedSVD(n_components=25)\n",
    "latent_matrix = svd.fit_transform(tfidf_matrix)\n",
    "pickle.dump(svd, open(\"models/svd_model.pkl\", \"wb\"))\n",
    "\n",
    "print (latent_matrix.shape)"
   ]
  },
  {
   "cell_type": "code",
   "execution_count": 11,
   "id": "85e2a80d",
   "metadata": {},
   "outputs": [
    {
     "name": "stdout",
     "output_type": "stream",
     "text": [
      "(1272, 25)\n"
     ]
    }
   ],
   "source": [
    "n = 25 #pick components\n",
    "\n",
    "#Use elbow and cumulative plot to pick number of components. \n",
    "\n",
    "#Need high ammount of variance explained. \n",
    "doc_labels = df.ProductTitle\n",
    "svd_feature_matrix = pd.DataFrame(latent_matrix[:,0:n] ,index=doc_labels)\n",
    "print (svd_feature_matrix.shape)\n",
    "svd_feature_matrix.head()\n",
    "\n",
    "pickle.dump(svd_feature_matrix, open(\"models/lsa_embeddings.pkl\", \"wb\"))"
   ]
  },
  {
   "cell_type": "markdown",
   "id": "2ad5d435",
   "metadata": {},
   "source": [
    "# Doc2Vec Model"
   ]
  },
  {
   "cell_type": "markdown",
   "id": "19d16d37",
   "metadata": {},
   "source": [
    "Doc to vec preverves word order in the embeddings, so \"I hate green\" and \"I love green\" will be treated differently."
   ]
  },
  {
   "cell_type": "code",
   "execution_count": 12,
   "id": "7749b739",
   "metadata": {},
   "outputs": [],
   "source": [
    "descriptions = df.ProductTitle.values.tolist()\n",
    "\n",
    "documents = []\n",
    "for i in range(len(df)):\n",
    "    mystr = descriptions[i]\n",
    "    documents.append(re.sub(\"[^\\w]\", \" \",  mystr).split())"
   ]
  },
  {
   "cell_type": "code",
   "execution_count": 13,
   "id": "e0fc40b6",
   "metadata": {},
   "outputs": [
    {
     "name": "stdout",
     "output_type": "stream",
     "text": [
      "1272\n",
      "1272\n"
     ]
    }
   ],
   "source": [
    "print (len(df))\n",
    "print (len(documents))"
   ]
  },
  {
   "cell_type": "code",
   "execution_count": 14,
   "id": "e5339e8f",
   "metadata": {},
   "outputs": [
    {
     "data": {
      "text/plain": [
       "SN                                                             6.0\n",
       "Gender                                                       Girls\n",
       "Category                                                   Apparel\n",
       "SubCategory                                                Topwear\n",
       "ProductType                                                   Tops\n",
       "Colour                                                       White\n",
       "Usage                                                       Casual\n",
       "ProductTitle                    doodl kid girl citi chic white top\n",
       "full_document    doodl kid girl citi chic white top Girls Appar...\n",
       "Name: 5, dtype: object"
      ]
     },
     "execution_count": 14,
     "metadata": {},
     "output_type": "execute_result"
    }
   ],
   "source": [
    "df.loc[5]"
   ]
  },
  {
   "cell_type": "code",
   "execution_count": 15,
   "id": "2ea967b8",
   "metadata": {},
   "outputs": [],
   "source": [
    "formatted_documents = [gensim.models.doc2vec.TaggedDocument(doc, [i]) for i, doc in enumerate(documents)]\n",
    "\n",
    "model = gensim.models.doc2vec.Doc2Vec(vector_size=25, min_count=5, epochs=1000, seed=0, window=1, dm=1)\n",
    "model.build_vocab(formatted_documents)"
   ]
  },
  {
   "cell_type": "code",
   "execution_count": 16,
   "id": "0ea45b55",
   "metadata": {},
   "outputs": [
    {
     "name": "stdout",
     "output_type": "stream",
     "text": [
      "CPU times: user 12.2 s, sys: 401 ms, total: 12.7 s\n",
      "Wall time: 12.3 s\n"
     ]
    }
   ],
   "source": [
    "%time model.train(formatted_documents, total_examples=model.corpus_count, epochs=model.epochs)"
   ]
  },
  {
   "cell_type": "code",
   "execution_count": 17,
   "id": "c97a05aa",
   "metadata": {},
   "outputs": [],
   "source": [
    "fname = get_tmpfile(\"models/doc2vec_model\")\n",
    "model.save(\"models/doc2vec_model\")\n",
    "model = gensim.models.doc2vec.Doc2Vec.load(\"./models/doc2vec_model\")"
   ]
  },
  {
   "cell_type": "code",
   "execution_count": 18,
   "id": "f4555bbc",
   "metadata": {},
   "outputs": [
    {
     "data": {
      "text/plain": [
       "array([ 0.01065145, -0.00836683, -0.00930168,  0.00070612,  0.00284922,\n",
       "       -0.01154674,  0.01747444, -0.00443355,  0.00369449,  0.00168475,\n",
       "        0.00875234, -0.01220508, -0.00441751,  0.00090119, -0.00957686,\n",
       "       -0.0124551 ,  0.01810199,  0.01608706, -0.00217809,  0.01831646,\n",
       "       -0.00655122, -0.0021663 , -0.00702667,  0.00577031, -0.00783004],\n",
       "      dtype=float32)"
      ]
     },
     "execution_count": 18,
     "metadata": {},
     "output_type": "execute_result"
    }
   ],
   "source": [
    "vector = model.infer_vector(doc_words=[\"this\", \"is\", \"a\", \"test\"], epochs=50)\n",
    "vector"
   ]
  },
  {
   "cell_type": "code",
   "execution_count": 19,
   "id": "b07c1c50",
   "metadata": {},
   "outputs": [
    {
     "name": "stdout",
     "output_type": "stream",
     "text": [
      "(1272, 25)\n"
     ]
    }
   ],
   "source": [
    "doctovec_feature_matrix = pd.DataFrame(model.docvecs.vectors_docs, index=df.ProductTitle)\n",
    "print (doctovec_feature_matrix.shape)\n",
    "doctovec_feature_matrix.head(3)\n",
    "pickle.dump(doctovec_feature_matrix, open(\"models/doctovec_embeddings.pkl\", \"wb\"))"
   ]
  }
 ],
 "metadata": {
  "kernelspec": {
   "display_name": "Python 3 (ipykernel)",
   "language": "python",
   "name": "python3"
  },
  "language_info": {
   "codemirror_mode": {
    "name": "ipython",
    "version": 3
   },
   "file_extension": ".py",
   "mimetype": "text/x-python",
   "name": "python",
   "nbconvert_exporter": "python",
   "pygments_lexer": "ipython3",
   "version": "3.8.12"
  }
 },
 "nbformat": 4,
 "nbformat_minor": 5
}
