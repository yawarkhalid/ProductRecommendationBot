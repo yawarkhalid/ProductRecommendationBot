{
 "cells": [
  {
   "cell_type": "markdown",
   "id": "d9675edb",
   "metadata": {},
   "source": [
    "**Develop a Chatbot for the E-commerce domain using the apparel dataset provided separately. It is expected that you are able to entertain multiple types of scenarios:~**\n",
    "\n",
    " - 1) A user starts a conversation by asking a few things in the beginning, like:\n",
    "        User: Do you sell boys tops? (or similar question)\n",
    "        Bot: Bot would say “yes” or “no”, depending upon the availability of the item? Also ask relevant attribute(s) to simplify the search and/or to engage the user (like which color or type you are looking for?)\n",
    "        User: ......\n",
    "        Bot: .......\n",
    "\n",
    "- 2) The user directly provides a long sentence, such as:\n",
    "        User: I need a t-shirt for my son in green or blue color\n",
    "        Bot: respond with search results or ask about other attributes to simplify the search User: ........\n",
    "        Bot: .......\n",
    "\n",
    "- 3) The user may be very crude in his/her input and may only say “blue t-shirt for boys”. It is similar to category 2) above but has lesser greetings or formality from the user side. The bot may continue in its typical fashion, as was the case in 2).\n",
    "\n",
    "\n",
    "The user may add more information in the subsequent responses as the discussion continues. Ensure that you maintain a memory to store the data received/extracted so far.\n",
    "\n",
    "\n",
    "As discussed in the class, the final solution may use a hybrid approach that compromises both pattern-based and word2vec based search, which is perfectly fine.\n",
    "\n",
    "\n",
    "_Deliverables: In addition to submitting a working code (preferably using Streamlit interface), briefly describe the approach you took._"
   ]
  },
  {
   "cell_type": "markdown",
   "id": "b86e03fb",
   "metadata": {},
   "source": [
    "# Product Chatbot Information Retrieval Recommendations Demo"
   ]
  },
  {
   "cell_type": "code",
   "execution_count": 1,
   "id": "40e0888a",
   "metadata": {},
   "outputs": [
    {
     "name": "stderr",
     "output_type": "stream",
     "text": [
      "[nltk_data] Downloading package vader_lexicon to\n",
      "[nltk_data]     /Users/yawarkhalid/nltk_data...\n",
      "[nltk_data]   Package vader_lexicon is already up-to-date!\n",
      "[nltk_data] Downloading package stopwords to\n",
      "[nltk_data]     /Users/yawarkhalid/nltk_data...\n",
      "[nltk_data]   Package stopwords is already up-to-date!\n"
     ]
    }
   ],
   "source": [
    "from src.information_retrieval_model import Product_Information_Retrieval_Model"
   ]
  },
  {
   "cell_type": "code",
   "execution_count": 2,
   "id": "4bd99ccd",
   "metadata": {},
   "outputs": [
    {
     "name": "stderr",
     "output_type": "stream",
     "text": [
      "/Users/yawarkhalid/miniforge3/envs/newenv/lib/python3.8/site-packages/openpyxl/styles/stylesheet.py:226: UserWarning: Workbook contains no default style, apply openpyxl's default\n",
      "  warn(\"Workbook contains no default style, apply openpyxl's default\")\n"
     ]
    }
   ],
   "source": [
    "model = Product_Information_Retrieval_Model()"
   ]
  },
  {
   "cell_type": "code",
   "execution_count": 3,
   "id": "7f773eac",
   "metadata": {},
   "outputs": [
    {
     "name": "stderr",
     "output_type": "stream",
     "text": [
      "/Users/yawarkhalid/miniforge3/envs/newenv/lib/python3.8/site-packages/openpyxl/styles/stylesheet.py:226: UserWarning: Workbook contains no default style, apply openpyxl's default\n",
      "  warn(\"Workbook contains no default style, apply openpyxl's default\")\n"
     ]
    },
    {
     "data": {
      "text/html": [
       "<div>\n",
       "<style scoped>\n",
       "    .dataframe tbody tr th:only-of-type {\n",
       "        vertical-align: middle;\n",
       "    }\n",
       "\n",
       "    .dataframe tbody tr th {\n",
       "        vertical-align: top;\n",
       "    }\n",
       "\n",
       "    .dataframe thead th {\n",
       "        text-align: right;\n",
       "    }\n",
       "</style>\n",
       "<table border=\"1\" class=\"dataframe\">\n",
       "  <thead>\n",
       "    <tr style=\"text-align: right;\">\n",
       "      <th></th>\n",
       "      <th>SN</th>\n",
       "      <th>Gender</th>\n",
       "      <th>Category</th>\n",
       "      <th>SubCategory</th>\n",
       "      <th>ProductType</th>\n",
       "      <th>Colour</th>\n",
       "      <th>Usage</th>\n",
       "      <th>ProductTitle</th>\n",
       "    </tr>\n",
       "  </thead>\n",
       "  <tbody>\n",
       "    <tr>\n",
       "      <th>0</th>\n",
       "      <td>1.0</td>\n",
       "      <td>Girls</td>\n",
       "      <td>Apparel</td>\n",
       "      <td>Topwear</td>\n",
       "      <td>Tops</td>\n",
       "      <td>White</td>\n",
       "      <td>Casual</td>\n",
       "      <td>Gini and Jony Girls Knit White Top</td>\n",
       "    </tr>\n",
       "    <tr>\n",
       "      <th>1</th>\n",
       "      <td>2.0</td>\n",
       "      <td>Girls</td>\n",
       "      <td>Apparel</td>\n",
       "      <td>Topwear</td>\n",
       "      <td>Tops</td>\n",
       "      <td>Black</td>\n",
       "      <td>Casual</td>\n",
       "      <td>Gini and Jony Girls Black Top</td>\n",
       "    </tr>\n",
       "    <tr>\n",
       "      <th>2</th>\n",
       "      <td>3.0</td>\n",
       "      <td>Girls</td>\n",
       "      <td>Apparel</td>\n",
       "      <td>Topwear</td>\n",
       "      <td>Tops</td>\n",
       "      <td>Blue</td>\n",
       "      <td>Casual</td>\n",
       "      <td>Gini and Jony Girls Pretty Blossom Blue Top</td>\n",
       "    </tr>\n",
       "    <tr>\n",
       "      <th>3</th>\n",
       "      <td>4.0</td>\n",
       "      <td>Girls</td>\n",
       "      <td>Apparel</td>\n",
       "      <td>Topwear</td>\n",
       "      <td>Tops</td>\n",
       "      <td>Pink</td>\n",
       "      <td>Casual</td>\n",
       "      <td>Doodle Kids Girls Pink I love Shopping Top</td>\n",
       "    </tr>\n",
       "    <tr>\n",
       "      <th>4</th>\n",
       "      <td>5.0</td>\n",
       "      <td>Girls</td>\n",
       "      <td>Apparel</td>\n",
       "      <td>Bottomwear</td>\n",
       "      <td>Capris</td>\n",
       "      <td>Black</td>\n",
       "      <td>Casual</td>\n",
       "      <td>Gini and Jony Girls Black Capris</td>\n",
       "    </tr>\n",
       "  </tbody>\n",
       "</table>\n",
       "</div>"
      ],
      "text/plain": [
       "    SN Gender Category SubCategory ProductType Colour   Usage  \\\n",
       "0  1.0  Girls  Apparel     Topwear        Tops  White  Casual   \n",
       "1  2.0  Girls  Apparel     Topwear        Tops  Black  Casual   \n",
       "2  3.0  Girls  Apparel     Topwear        Tops   Blue  Casual   \n",
       "3  4.0  Girls  Apparel     Topwear        Tops   Pink  Casual   \n",
       "4  5.0  Girls  Apparel  Bottomwear      Capris  Black  Casual   \n",
       "\n",
       "                                  ProductTitle  \n",
       "0           Gini and Jony Girls Knit White Top  \n",
       "1                Gini and Jony Girls Black Top  \n",
       "2  Gini and Jony Girls Pretty Blossom Blue Top  \n",
       "3   Doodle Kids Girls Pink I love Shopping Top  \n",
       "4             Gini and Jony Girls Black Capris  "
      ]
     },
     "execution_count": 3,
     "metadata": {},
     "output_type": "execute_result"
    }
   ],
   "source": [
    "import pandas as pd \n",
    "df = pd.read_excel(\"data/fashion_final.xlsx\")\n",
    "df.head()"
   ]
  },
  {
   "cell_type": "code",
   "execution_count": 4,
   "id": "4b7c0693",
   "metadata": {},
   "outputs": [],
   "source": [
    "request_body = \"Pink tops for girls\"\n",
    "#recs = model.query_similar_products(message, 1)\n",
    "\n",
    "i=0\n",
    "\n",
    "recs = model.query_similar_products(request_body, 1)\n",
    "product_name = recs.index.tolist()[i]\n",
    "product_score  = round(recs.iloc[i].ensemble_similarity,4)"
   ]
  },
  {
   "cell_type": "code",
   "execution_count": 5,
   "id": "d5be2eb1",
   "metadata": {},
   "outputs": [
    {
     "data": {
      "text/plain": [
       "'hannah montana girl pink top'"
      ]
     },
     "execution_count": 5,
     "metadata": {},
     "output_type": "execute_result"
    }
   ],
   "source": [
    "product_name"
   ]
  },
  {
   "cell_type": "code",
   "execution_count": 6,
   "id": "344e7ce6",
   "metadata": {},
   "outputs": [
    {
     "data": {
      "text/plain": [
       "0.8986"
      ]
     },
     "execution_count": 6,
     "metadata": {},
     "output_type": "execute_result"
    }
   ],
   "source": [
    "product_score"
   ]
  },
  {
   "cell_type": "code",
   "execution_count": 7,
   "id": "babc1414",
   "metadata": {},
   "outputs": [
    {
     "data": {
      "text/plain": [
       "'do,re,mi'"
      ]
     },
     "execution_count": 7,
     "metadata": {},
     "output_type": "execute_result"
    }
   ],
   "source": [
    "strings = ['do', 're', 'mi']\n",
    ">>> ','.join(strings)"
   ]
  },
  {
   "cell_type": "code",
   "execution_count": 8,
   "id": "e3d3677c",
   "metadata": {},
   "outputs": [
    {
     "data": {
      "text/plain": [
       "'hannah+montana+girl+pink+top'"
      ]
     },
     "execution_count": 8,
     "metadata": {},
     "output_type": "execute_result"
    }
   ],
   "source": [
    "product_name.replace(\" \", \"+\")"
   ]
  },
  {
   "cell_type": "markdown",
   "id": "406b7082",
   "metadata": {},
   "source": [
    "## Conversational Demo"
   ]
  },
  {
   "cell_type": "code",
   "execution_count": 9,
   "id": "128b3f6a",
   "metadata": {},
   "outputs": [],
   "source": [
    "import os\n",
    "from src.information_retrieval_model import Product_Information_Retrieval_Model\n",
    "import pandas as pd \n",
    "import emoji\n",
    "\n",
    "import chatterbot\n",
    "from chatterbot import ChatBot\n",
    "from chatterbot.trainers import ListTrainer\n",
    "\n",
    "from chatterbot.trainers import read_file"
   ]
  },
  {
   "cell_type": "code",
   "execution_count": 10,
   "id": "82e45026",
   "metadata": {},
   "outputs": [
    {
     "name": "stderr",
     "output_type": "stream",
     "text": [
      "[nltk_data] Downloading package averaged_perceptron_tagger to\n",
      "[nltk_data]     /Users/yawarkhalid/nltk_data...\n",
      "[nltk_data]   Package averaged_perceptron_tagger is already up-to-\n",
      "[nltk_data]       date!\n",
      "[nltk_data] Downloading package punkt to\n",
      "[nltk_data]     /Users/yawarkhalid/nltk_data...\n",
      "[nltk_data]   Package punkt is already up-to-date!\n",
      "[nltk_data] Downloading package stopwords to\n",
      "[nltk_data]     /Users/yawarkhalid/nltk_data...\n",
      "[nltk_data]   Package stopwords is already up-to-date!\n"
     ]
    }
   ],
   "source": [
    "bot = ChatBot(\"Example Bot\", read_only=False)\n",
    "trainer = ListTrainer(bot)\n",
    "\n",
    "#bot.storage.drop()"
   ]
  },
  {
   "cell_type": "code",
   "execution_count": 11,
   "id": "563a08dd",
   "metadata": {},
   "outputs": [
    {
     "name": "stdout",
     "output_type": "stream",
     "text": [
      "List Trainer: [####################] 100%\n"
     ]
    }
   ],
   "source": [
    "trainer.train([\n",
    "'Hi',\n",
    "'Hello',\n",
    "'Sorry, we dont have this product',\n",
    "'Yes, enter detailed description',\n",
    "'Tell me more about it.',\n",
    "'Sorry, we dont stock that item, add more description.',\n",
    "'Im sorry, we dont have recommedations for that, you can try our webstore or add more description',\n",
    "'Please enter more description',\n",
    "'I hope ive helped.',\n",
    "'Yes',\n",
    "'No',\n",
    "'You can exit any time',\n",
    "'No Problem! Have a Good Day!'\n",
    "])"
   ]
  },
  {
   "cell_type": "code",
   "execution_count": 12,
   "id": "e7c09fbb",
   "metadata": {},
   "outputs": [
    {
     "name": "stderr",
     "output_type": "stream",
     "text": [
      "/Users/yawarkhalid/miniforge3/envs/newenv/lib/python3.8/site-packages/openpyxl/styles/stylesheet.py:226: UserWarning: Workbook contains no default style, apply openpyxl's default\n",
      "  warn(\"Workbook contains no default style, apply openpyxl's default\")\n",
      "/Users/yawarkhalid/miniforge3/envs/newenv/lib/python3.8/site-packages/openpyxl/styles/stylesheet.py:226: UserWarning: Workbook contains no default style, apply openpyxl's default\n",
      "  warn(\"Workbook contains no default style, apply openpyxl's default\")\n"
     ]
    },
    {
     "name": "stdout",
     "output_type": "stream",
     "text": [
      "Enter Your Name: Yawar\n",
      "\n",
      "Hi there! I'm a chatbot programmed to help you find your perfect fashion product! To get started, just respond with a description of what you are looking for. Be as detailed as you want!\n",
      "\n",
      "Yawar:white topwear for girls\n",
      "\n",
      "Bot: Great! Here are your top recommendations 🌸\n",
      "\n",
      "1) gini joni girl white top (match score=0.8002). Shop for it here https://www.google.com/search?q=gini+joni+girl+white+top.\n",
      " \n",
      "2) You can also try 🍄 gini joni girl white top (match score=0.8002). Shop it here https://www.google.com/search?q=gini+joni+girl+white+top.\n",
      "\n",
      "3) Or try 💐 gini joni girl white top (match score=0.8002. Shop it here https://www.google.com/search?q=gini+joni+girl+white+top. Enjoy!\n",
      "❤️\n",
      "\n",
      "Thanks and enjoy your new purchase! If you want new recommendations, just type another product description.\n",
      "You can type 'Bye' anytime to quit.\n",
      "Yawar:blue boys\n",
      "\n",
      "Bot: Great! Here are your top recommendations 🌸\n",
      "\n",
      "1) batman boy blue print t shirt (match score=0.8051). Shop for it here https://www.google.com/search?q=batman+boy+blue+print+t+shirt.\n",
      " \n",
      "2) You can also try 🍄 gini joni boy wild west blue t shirt (match score=0.7843). Shop it here https://www.google.com/search?q=gini+joni+boy+wild+west+blue+t+shirt.\n",
      "\n",
      "3) Or try 💐 gini joni boy blue t shirt (match score=0.7841. Shop it here https://www.google.com/search?q=gini+joni+boy+blue+t+shirt. Enjoy!\n",
      "❤️\n",
      "\n",
      "Thanks and enjoy your new purchase! If you want new recommendations, just type another product description.\n",
      "You can type 'Bye' anytime to quit.\n",
      "Yawar:bye\n",
      "Bot: Thanks and enjoy your new purchase! If you want new recommendations, just reset me.\n"
     ]
    }
   ],
   "source": [
    "model = Product_Information_Retrieval_Model()\n",
    "df = pd.read_excel(\"data/fashion_final.xlsx\")\n",
    "\n",
    "name=input(\"Enter Your Name: \")\n",
    "\n",
    "print(\"\\nHi there! I'm a chatbot programmed to help you find your perfect fashion product! To get started, just respond with a description of what you are looking for. Be as detailed as you want!\\n\")\n",
    "\n",
    "while True:\n",
    "    request_body=input(name+':')\n",
    "    \n",
    "    if request_body=='Bye' or request_body =='bye':\n",
    "        print('Bot: Thanks and enjoy your new purchase! If you want new recommendations, just reset me.')\n",
    "        break\n",
    "    \n",
    "    else:\n",
    "        recs = model.query_similar_products(request_body, 3)\n",
    "\n",
    "        #format recommendation 1\n",
    "        product_name = recs.index.tolist()[0]\n",
    "        product_score1  = round(recs.iloc[0].ensemble_similarity,4)\n",
    "        \n",
    "        if product_score1 <=0.4:\n",
    "            response=bot.get_response(request_body)\n",
    "            print('Bot:',response)\n",
    "            \n",
    "        else:\n",
    "        \n",
    "            shopping_link = \"https://www.google.com/search?q=\" + product_name.replace(\" \", \"+\")\n",
    "            sms_message = emoji.emojize(\"Great! Here are your top recommendations :cherry_blossom:\\n\\n1) {} (match score={}). Shop for it here {}.\\n \".format(product_name, product_score1, shopping_link))  \n",
    "\n",
    "\n",
    "            #format recommendation 2\n",
    "            product_name = recs.index.tolist()[1]\n",
    "            product_score2  = round(recs.iloc[1].ensemble_similarity,4)\n",
    "            shopping_link = \"https://www.google.com/search?q=\" + product_name.replace(\" \", \"+\")\n",
    "            sms_message = sms_message + emoji.emojize(\"\\n2) You can also try :mushroom: {} (match score={}). Shop it here {}.\\n\".format(product_name, product_score2, shopping_link))\n",
    "\n",
    "\n",
    "            #format recommendation 3\n",
    "            product_name = recs.index.tolist()[2]\n",
    "            product_score3  = round(recs.iloc[2].ensemble_similarity,4)\n",
    "            shopping_link = \"https://www.google.com/search?q=\" + product_name.replace(\" \", \"+\")\n",
    "            sms_message = sms_message + emoji.emojize(\"\\n3) Or try :bouquet: {} (match score={}. Shop it here {}. Enjoy!\\n\".format(product_name, product_score3 , shopping_link))\n",
    "            sms_message = sms_message + emoji.emojize(\":red_heart:\")\n",
    "\n",
    "\n",
    "            sms_message = sms_message + \"\\n\\nThanks and enjoy your new purchase! If you want new recommendations, just type another product description.\\nYou can type 'Bye' anytime to quit.\"\n",
    "            response = sms_message\n",
    "            print('\\nBot:',response)"
   ]
  }
 ],
 "metadata": {
  "kernelspec": {
   "display_name": "Python 3 (ipykernel)",
   "language": "python",
   "name": "python3"
  },
  "language_info": {
   "codemirror_mode": {
    "name": "ipython",
    "version": 3
   },
   "file_extension": ".py",
   "mimetype": "text/x-python",
   "name": "python",
   "nbconvert_exporter": "python",
   "pygments_lexer": "ipython3",
   "version": "3.8.12"
  }
 },
 "nbformat": 4,
 "nbformat_minor": 5
}
